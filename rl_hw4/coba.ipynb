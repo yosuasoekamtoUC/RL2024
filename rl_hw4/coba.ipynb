{
 "cells": [
  {
   "cell_type": "code",
   "execution_count": null,
   "metadata": {},
   "outputs": [],
   "source": [
    "import cleanrl_dqn_atari as mainprog"
   ]
  },
  {
   "cell_type": "code",
   "execution_count": null,
   "metadata": {},
   "outputs": [],
   "source": [
    "!python cleanrl_dqn_atari.py --env_id ALE/Asterix-v5\n",
    "# !python cleanrl_dqn_atari.py --env_id ALE/Blackjack-v5\n",
    "# !python cleanrl_dqn_atari.py --env_id ALE/Alien-v5"
   ]
  }
 ],
 "metadata": {
  "kernelspec": {
   "display_name": "rl_base2",
   "language": "python",
   "name": "python3"
  },
  "language_info": {
   "codemirror_mode": {
    "name": "ipython",
    "version": 3
   },
   "file_extension": ".py",
   "mimetype": "text/x-python",
   "name": "python",
   "nbconvert_exporter": "python",
   "pygments_lexer": "ipython3",
   "version": "3.8.0"
  }
 },
 "nbformat": 4,
 "nbformat_minor": 2
}
